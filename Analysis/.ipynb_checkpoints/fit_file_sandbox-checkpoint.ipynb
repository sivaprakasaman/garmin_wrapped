{
 "cells": [
  {
   "cell_type": "code",
   "execution_count": 1,
   "metadata": {},
   "outputs": [],
   "source": [
    "from fit_tool.fit_file import FitFile\n",
    "from fit_tool.profile.messages.record_message import RecordMessage\n",
    "import numpy as np\n",
    "import pandas as pd\n",
    "import matplotlib.pyplot as plt\n",
    "import os\n",
    "\n",
    "plt.style.use('seaborn')"
   ]
  },
  {
   "cell_type": "code",
   "execution_count": 2,
   "metadata": {},
   "outputs": [],
   "source": [
    "dir_fit = 'Data/FitFiles'\n",
    "act_fit = 'sample_act.fit';\n",
    "\n",
    "pwd = os.getcwd();\n",
    "os.chdir('..')\n",
    "os.chdir(dir_fit);"
   ]
  },
  {
   "cell_type": "code",
   "execution_count": 3,
   "metadata": {},
   "outputs": [
    {
     "name": "stderr",
     "output_type": "stream",
     "text": [
      "2022-10-25 16:15:52,353 Field id: 6 is not defined for message file_id:0. Skipping this field\n",
      "2022-10-25 16:15:52,355 Record 1, <fit_tool.profile.messages.file_id_message.FileIdMessage object at 0x7f291a0ff280>: size (16) != defined size (18). Some fields were not read correctly.\n",
      "2022-10-25 16:15:52,356 - 1 -\n",
      "\tactual: b'\\x00e\\x0f\\x99\\xe9pN95\\x01\\x00\\x7f\\t\\x80\\x00\\xff\\xff '\n",
      "\trecord: b'\\x00e\\x0f\\x99\\xe9pN95\\x01\\x00\\x7f\\t\\x80\\x00 '\n",
      "2022-10-25 16:15:52,358 Field id: 7 is not defined for message monitoring_info:103. Skipping this field\n",
      "2022-10-25 16:15:52,359 Field id: 8 is not defined for message monitoring_info:103. Skipping this field\n",
      "2022-10-25 16:15:52,360 Record 7, <fit_tool.profile.messages.monitoring_info_message.MonitoringInfoMessage object at 0x7f29194e1ee0>: size (21) != defined size (30). Some fields were not read correctly.\n",
      "2022-10-25 16:15:52,361 - 7 -\n",
      "\tactual: b'\\x03pN950\\x16957\\x1eR-\\xcb\\x00\\x80\\x02\\xd2!\\x00\\x00\\xd2!\\x00\\x00\\x96\\x07\\x06\\x01\\xff'\n",
      "\trecord: b'\\x03pN950\\x16957\\x1eR-\\xcb\\x00\\x80\\x02\\x96\\x07\\x06\\x01'\n",
      "2022-10-25 16:15:52,365 Field id: 37 is not defined for message monitoring:55. Skipping this field\n",
      "2022-10-25 16:15:52,366 Field id: 38 is not defined for message monitoring:55. Skipping this field\n",
      "2022-10-25 16:15:52,367 Record 13, <fit_tool.profile.messages.monitoring_message.MonitoringMessage object at 0x7f29194f8f70>: size (5) != defined size (9). Some fields were not read correctly.\n",
      "2022-10-25 16:15:52,368 - 13 -\n",
      "\tactual: b'\\x05pN95\\x07\\x00\\x07\\x00'\n",
      "\trecord: b'\\x05pN95'\n",
      "2022-10-25 16:15:52,433 Field id: 37 is not defined for message monitoring:55. Skipping this field\n",
      "2022-10-25 16:15:52,434 Field id: 38 is not defined for message monitoring:55. Skipping this field\n",
      "2022-10-25 16:15:52,434 Record 75, <fit_tool.profile.messages.monitoring_message.MonitoringMessage object at 0x7f2919197fd0>: size (5) != defined size (9). Some fields were not read correctly.\n",
      "2022-10-25 16:15:52,435 - 75 -\n",
      "\tactual: b'\\x05\\x80\\\\95\\x07\\x00\\x07\\x00'\n",
      "\trecord: b'\\x05\\x80\\\\95'\n"
     ]
    },
    {
     "name": "stdout",
     "output_type": "stream",
     "text": [
      "Loading activity file...\n",
      "<fit_tool.definition_message.DefinitionMessage object at 0x7f291a0ff640>\n"
     ]
    },
    {
     "ename": "IndexError",
     "evalue": "list index out of range",
     "output_type": "error",
     "traceback": [
      "\u001b[0;31m---------------------------------------------------------------------------\u001b[0m",
      "\u001b[0;31mIndexError\u001b[0m                                Traceback (most recent call last)",
      "\u001b[0;32m<ipython-input-3-7156cce8d570>\u001b[0m in \u001b[0;36m<module>\u001b[0;34m\u001b[0m\n\u001b[1;32m     17\u001b[0m         \u001b[0mcadence1\u001b[0m\u001b[0;34m.\u001b[0m\u001b[0mappend\u001b[0m\u001b[0;34m(\u001b[0m\u001b[0mmessage\u001b[0m\u001b[0;34m.\u001b[0m\u001b[0mcadence\u001b[0m\u001b[0;34m)\u001b[0m\u001b[0;34m\u001b[0m\u001b[0;34m\u001b[0m\u001b[0m\n\u001b[1;32m     18\u001b[0m \u001b[0;34m\u001b[0m\u001b[0m\n\u001b[0;32m---> 19\u001b[0;31m     \u001b[0mstart_timestamp\u001b[0m \u001b[0;34m=\u001b[0m \u001b[0mtimestamp1\u001b[0m\u001b[0;34m[\u001b[0m\u001b[0;36m0\u001b[0m\u001b[0;34m]\u001b[0m\u001b[0;34m\u001b[0m\u001b[0;34m\u001b[0m\u001b[0m\n\u001b[0m\u001b[1;32m     20\u001b[0m     \u001b[0mtime1\u001b[0m \u001b[0;34m=\u001b[0m \u001b[0mnp\u001b[0m\u001b[0;34m.\u001b[0m\u001b[0marray\u001b[0m\u001b[0;34m(\u001b[0m\u001b[0mtimestamp1\u001b[0m\u001b[0;34m)\u001b[0m\u001b[0;34m\u001b[0m\u001b[0;34m\u001b[0m\u001b[0m\n\u001b[1;32m     21\u001b[0m     \u001b[0mpower1\u001b[0m \u001b[0;34m=\u001b[0m \u001b[0mnp\u001b[0m\u001b[0;34m.\u001b[0m\u001b[0marray\u001b[0m\u001b[0;34m(\u001b[0m\u001b[0mpower1\u001b[0m\u001b[0;34m)\u001b[0m\u001b[0;34m\u001b[0m\u001b[0;34m\u001b[0m\u001b[0m\n",
      "\u001b[0;31mIndexError\u001b[0m: list index out of range"
     ]
    }
   ],
   "source": [
    "print(f'Loading activity file...')\n",
    "app_fit = FitFile.from_file(act_fit)\n",
    "timestamp1 = []\n",
    "power1 = []\n",
    "distance1 = []\n",
    "speed1 = []\n",
    "cadence1 = []\n",
    "\n",
    "for record in app_fit.records:\n",
    "    message = record.message\n",
    "    print(message)\n",
    "    if isinstance(message, RecordMessage):\n",
    "        timestamp1.append(message.timestamp)\n",
    "        distance1.append(message.distance)\n",
    "        power1.append(message.power)\n",
    "        speed1.append(message.speed)\n",
    "        cadence1.append(message.cadence)\n",
    "    \n",
    "    start_timestamp = timestamp1[0]\n",
    "    time1 = np.array(timestamp1)\n",
    "    power1 = np.array(power1)\n",
    "    speed1 = np.array(speed1)\n",
    "    cadence1 = np.array(cadence1)\n",
    "    time1 = (time1 - start_timestamp) / 1000.0\n",
    "    \n",
    "    ax1 = plt.subplot(311)\n",
    "    ax1.plot(time1, power1, '-o', label='app [W]')\n",
    "    ax1.legend(loc=\"upper right\")\n",
    "    plt.xlabel('Time (s)')\n",
    "    plt.ylabel('Power (W)')\n",
    "\n",
    "    plt.subplot(312, sharex=ax1)\n",
    "    plt.plot(time1, speed1, '-o', label='app [m/s]')\n",
    "    plt.legend(loc=\"upper right\")\n",
    "    plt.xlabel('Time (s)')\n",
    "    plt.ylabel('speed (m/s)')\n",
    "\n",
    "    plt.subplot(313, sharex=ax1)\n",
    "    plt.plot(time1, cadence1, '-o', label='app [rpm]')\n",
    "    plt.legend(loc=\"upper right\")\n",
    "    plt.xlabel('Time (s)')\n",
    "    plt.ylabel('cadence (rpm)')\n",
    "\n",
    "    plt.show()"
   ]
  },
  {
   "cell_type": "code",
   "execution_count": null,
   "metadata": {},
   "outputs": [],
   "source": []
  }
 ],
 "metadata": {
  "kernelspec": {
   "display_name": "Python 3",
   "language": "python",
   "name": "python3"
  },
  "language_info": {
   "codemirror_mode": {
    "name": "ipython",
    "version": 3
   },
   "file_extension": ".py",
   "mimetype": "text/x-python",
   "name": "python",
   "nbconvert_exporter": "python",
   "pygments_lexer": "ipython3",
   "version": "3.9.4"
  }
 },
 "nbformat": 4,
 "nbformat_minor": 4
}
